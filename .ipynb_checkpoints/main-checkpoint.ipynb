{
 "cells": [
  {
   "cell_type": "markdown",
   "id": "zBZdZ0m8MyMy",
   "metadata": {
    "id": "zBZdZ0m8MyMy"
   },
   "source": [
    "# Griffin-Lim algoritam\n",
    "Griffin-Lim je algoritam za rekonstrukciju signala na osnovu njegovog spektrograma. Algoritam su osnovali Daniel W. Griffin i Jae Lim i kombinacijom njihovih prezimena je dobio ime Griffin-Lim. Iako ovo nije prvi algoritam koji se bavio temom rekonstrukcije signala, ističe se po svojoj jednostavnosti i brzini. Ovaj algoritam se zasniva na Gaborovoj teoriji, kompleksnom matematičkom aparatu koji, zbog svoje složenosti, neće biti detaljno objašnjen u okviru ovog rada.\n",
    "\n",
    "# Matematika iza Girffin-Lim algoritma\n",
    "Označimo magnitudni spektrogram od kojeg algoritam polazi sa $s$. Tada postoji signal $x\\in\\mathbb{R}^L$, gde je $\\mathbb{R}^L$ skup svih realnih signala takav da odgovara spektrogramu $s$. Kako bi se od signala $x$ dobio spektrogram $s$ koristi se Kratkoročna Furijeova Transformacija odnosno Short Time Fourier Transform (STFT) i ona predstavlja vrstu Gaborovog preslikavanja ($G$), tako da beležimo $Gx=s$. Uz ovu postavku ako poznajemo samo $s$ i $G$ (što je u našem slučaju STFT) onda tražimo signal $x^*$ takav da se minimizuje greška $||Gx^*-s||_2$ odnosno traži se\n",
    "$$\n",
    "\\min_{x^*\\in\\mathbb{R}^L}||Gx^*-s||_2\n",
    "$$\n",
    "Na osnovu prethodnog, prirodno se nameće greška\n",
    "$$\n",
    "E(x)=\\frac{||Gx^*-s||_2}{||s||_2}\n",
    "$$\n",
    "\n",
    "Sa matematičke strane, osnovu Griffin-Lim algoritma predstavljaju 2 projekcije spektrograma:\n",
    "1. $P_{C_1}$: Projekcija spektrograma na set spektrograma $C_1$ za koji važi\n",
    "$$\n",
    "C_1 = \\{c \\mid \\exists x \\in \\mathbb{R} \\text{ tkd. } c = Gx\\}\n",
    "$$\n",
    "Ovo se postiže primenom inverznog Gaborovog preslikavanja preslikavanju $G$ (ISTFT) u oznaci $G^\\dagger$ i zatim ponovna primena preslikavanja $G$. Dakle\n",
    "$$\n",
    "P_{C_1}(c) = GG^{\\dagger}x\n",
    "$$\n",
    "Ovime dobijamo spektrogram nekog realnog signala koji je \"blizak\" našem $s$ ali poseduje i fazu\n",
    "2. $P_{C_2}$: Projekcija koje našem početnom magnitudnom spektrogramu $s$ dodaje fazu dobijenog spektrogama $c$ pomoću $P_{C_1}$. Set spektrogama $C_2$ je zadat kao\n",
    "$$\n",
    "C_2 = \\{c \\in \\mathbb{C}^{MN}\\mid |c| = s\\}\n",
    "$$\n",
    "U ovom slučaju jednakost $|c| = s$ ne mora nužno da bude zadovoljena bitno je da se minimizuje razlika $|||c| - s||_2$. Na ovaj način se spektrogram sa fazom čija je magnituda bliska $s$, tako da ukoliko našem $s$ damo fazu dobijenog $c$ dobijamo novi spektrogram koji ima istu magnitudu, ali sada ima i fazu\n",
    "$$\n",
    "P_{C_2}(c) = s*e^{{\\cdot}i{\\angle}c}\n",
    "$$\n",
    "\n",
    "Griffin-Lim se zasniva na uzastopnim primenama $P_{C_1}$ i $P_{C_2}$ preslikavanja i sa velikim brojem iteracija prilazi $s$.\n",
    "$$\n",
    "c_n = P_{C_1}(P_{C_2}(c_{n-1})),\\ {\\angle}c_0\\ je\\ proizvoljna\\ fixna\\ vrednost\n",
    "$$\n",
    "\n",
    "Na ovaj način uz dovoljan broj iteracija $c_n$ teži $s$, a time i $x^*$ teži $x$"
   ]
  },
  {
   "cell_type": "code",
   "execution_count": 1,
   "id": "7bc5fc15",
   "metadata": {
    "id": "7bc5fc15"
   },
   "outputs": [
    {
     "ename": "ImportError",
     "evalue": "/home/ivan/exit/envs/tf/lib/libstdc++.so.6: version `GLIBCXX_3.4.30' not found (required by /usr/lib/python3/dist-packages/scipy/fft/_pocketfft/pypocketfft.cpython-310-x86_64-linux-gnu.so)",
     "output_type": "error",
     "traceback": [
      "\u001b[0;31m---------------------------------------------------------------------------\u001b[0m",
      "\u001b[0;31mImportError\u001b[0m                               Traceback (most recent call last)",
      "\u001b[0;32m/tmp/ipykernel_566607/3604602452.py\u001b[0m in \u001b[0;36m<module>\u001b[0;34m\u001b[0m\n\u001b[1;32m      4\u001b[0m \u001b[0;32mfrom\u001b[0m \u001b[0mnumpy\u001b[0m \u001b[0;32mimport\u001b[0m \u001b[0mfft\u001b[0m\u001b[0;34m\u001b[0m\u001b[0;34m\u001b[0m\u001b[0m\n\u001b[1;32m      5\u001b[0m \u001b[0;32mfrom\u001b[0m \u001b[0mmatplotlib\u001b[0m \u001b[0;32mimport\u001b[0m \u001b[0mpyplot\u001b[0m \u001b[0;32mas\u001b[0m \u001b[0mplt\u001b[0m\u001b[0;34m\u001b[0m\u001b[0;34m\u001b[0m\u001b[0m\n\u001b[0;32m----> 6\u001b[0;31m \u001b[0;32mfrom\u001b[0m \u001b[0mscipy\u001b[0m \u001b[0;32mimport\u001b[0m \u001b[0msignal\u001b[0m\u001b[0;34m\u001b[0m\u001b[0;34m\u001b[0m\u001b[0m\n\u001b[0m",
      "\u001b[0;32m/usr/lib/python3/dist-packages/scipy/signal/__init__.py\u001b[0m in \u001b[0;36m<module>\u001b[0;34m\u001b[0m\n\u001b[1;32m    307\u001b[0m \u001b[0;34m\u001b[0m\u001b[0m\n\u001b[1;32m    308\u001b[0m \"\"\"\n\u001b[0;32m--> 309\u001b[0;31m \u001b[0;32mfrom\u001b[0m \u001b[0;34m.\u001b[0m \u001b[0;32mimport\u001b[0m \u001b[0m_sigtools\u001b[0m\u001b[0;34m,\u001b[0m \u001b[0mwindows\u001b[0m\u001b[0;34m\u001b[0m\u001b[0;34m\u001b[0m\u001b[0m\n\u001b[0m\u001b[1;32m    310\u001b[0m \u001b[0;32mfrom\u001b[0m \u001b[0;34m.\u001b[0m\u001b[0m_waveforms\u001b[0m \u001b[0;32mimport\u001b[0m \u001b[0;34m*\u001b[0m\u001b[0;34m\u001b[0m\u001b[0;34m\u001b[0m\u001b[0m\n\u001b[1;32m    311\u001b[0m \u001b[0;32mfrom\u001b[0m \u001b[0;34m.\u001b[0m\u001b[0m_max_len_seq\u001b[0m \u001b[0;32mimport\u001b[0m \u001b[0mmax_len_seq\u001b[0m\u001b[0;34m\u001b[0m\u001b[0;34m\u001b[0m\u001b[0m\n",
      "\u001b[0;32m/usr/lib/python3/dist-packages/scipy/signal/windows/__init__.py\u001b[0m in \u001b[0;36m<module>\u001b[0;34m\u001b[0m\n\u001b[1;32m     39\u001b[0m \"\"\"\n\u001b[1;32m     40\u001b[0m \u001b[0;34m\u001b[0m\u001b[0m\n\u001b[0;32m---> 41\u001b[0;31m \u001b[0;32mfrom\u001b[0m \u001b[0;34m.\u001b[0m\u001b[0m_windows\u001b[0m \u001b[0;32mimport\u001b[0m \u001b[0;34m*\u001b[0m\u001b[0;34m\u001b[0m\u001b[0;34m\u001b[0m\u001b[0m\n\u001b[0m\u001b[1;32m     42\u001b[0m \u001b[0;34m\u001b[0m\u001b[0m\n\u001b[1;32m     43\u001b[0m \u001b[0;31m# Deprecated namespaces, to be removed in v2.0.0\u001b[0m\u001b[0;34m\u001b[0m\u001b[0;34m\u001b[0m\u001b[0m\n",
      "\u001b[0;32m/usr/lib/python3/dist-packages/scipy/signal/windows/_windows.py\u001b[0m in \u001b[0;36m<module>\u001b[0;34m\u001b[0m\n\u001b[1;32m      5\u001b[0m \u001b[0;34m\u001b[0m\u001b[0m\n\u001b[1;32m      6\u001b[0m \u001b[0;32mimport\u001b[0m \u001b[0mnumpy\u001b[0m \u001b[0;32mas\u001b[0m \u001b[0mnp\u001b[0m\u001b[0;34m\u001b[0m\u001b[0;34m\u001b[0m\u001b[0m\n\u001b[0;32m----> 7\u001b[0;31m \u001b[0;32mfrom\u001b[0m \u001b[0mscipy\u001b[0m \u001b[0;32mimport\u001b[0m \u001b[0mlinalg\u001b[0m\u001b[0;34m,\u001b[0m \u001b[0mspecial\u001b[0m\u001b[0;34m,\u001b[0m \u001b[0mfft\u001b[0m \u001b[0;32mas\u001b[0m \u001b[0msp_fft\u001b[0m\u001b[0;34m\u001b[0m\u001b[0;34m\u001b[0m\u001b[0m\n\u001b[0m\u001b[1;32m      8\u001b[0m \u001b[0;34m\u001b[0m\u001b[0m\n\u001b[1;32m      9\u001b[0m __all__ = ['boxcar', 'triang', 'parzen', 'bohman', 'blackman', 'nuttall',\n",
      "\u001b[0;32m/usr/lib/python3/dist-packages/scipy/fft/__init__.py\u001b[0m in \u001b[0;36m<module>\u001b[0;34m\u001b[0m\n\u001b[1;32m     89\u001b[0m \u001b[0;32mfrom\u001b[0m \u001b[0;34m.\u001b[0m\u001b[0m_realtransforms\u001b[0m \u001b[0;32mimport\u001b[0m \u001b[0mdct\u001b[0m\u001b[0;34m,\u001b[0m \u001b[0midct\u001b[0m\u001b[0;34m,\u001b[0m \u001b[0mdst\u001b[0m\u001b[0;34m,\u001b[0m \u001b[0midst\u001b[0m\u001b[0;34m,\u001b[0m \u001b[0mdctn\u001b[0m\u001b[0;34m,\u001b[0m \u001b[0midctn\u001b[0m\u001b[0;34m,\u001b[0m \u001b[0mdstn\u001b[0m\u001b[0;34m,\u001b[0m \u001b[0midstn\u001b[0m\u001b[0;34m\u001b[0m\u001b[0;34m\u001b[0m\u001b[0m\n\u001b[1;32m     90\u001b[0m \u001b[0;32mfrom\u001b[0m \u001b[0;34m.\u001b[0m\u001b[0m_fftlog\u001b[0m \u001b[0;32mimport\u001b[0m \u001b[0mfht\u001b[0m\u001b[0;34m,\u001b[0m \u001b[0mifht\u001b[0m\u001b[0;34m,\u001b[0m \u001b[0mfhtoffset\u001b[0m\u001b[0;34m\u001b[0m\u001b[0;34m\u001b[0m\u001b[0m\n\u001b[0;32m---> 91\u001b[0;31m \u001b[0;32mfrom\u001b[0m \u001b[0;34m.\u001b[0m\u001b[0m_helper\u001b[0m \u001b[0;32mimport\u001b[0m \u001b[0mnext_fast_len\u001b[0m\u001b[0;34m\u001b[0m\u001b[0;34m\u001b[0m\u001b[0m\n\u001b[0m\u001b[1;32m     92\u001b[0m from ._backend import (set_backend, skip_backend, set_global_backend,\n\u001b[1;32m     93\u001b[0m                        register_backend)\n",
      "\u001b[0;32m/usr/lib/python3/dist-packages/scipy/fft/_helper.py\u001b[0m in \u001b[0;36m<module>\u001b[0;34m\u001b[0m\n\u001b[1;32m      1\u001b[0m \u001b[0;32mfrom\u001b[0m \u001b[0mfunctools\u001b[0m \u001b[0;32mimport\u001b[0m \u001b[0mupdate_wrapper\u001b[0m\u001b[0;34m,\u001b[0m \u001b[0mlru_cache\u001b[0m\u001b[0;34m\u001b[0m\u001b[0;34m\u001b[0m\u001b[0m\n\u001b[1;32m      2\u001b[0m \u001b[0;34m\u001b[0m\u001b[0m\n\u001b[0;32m----> 3\u001b[0;31m \u001b[0;32mfrom\u001b[0m \u001b[0;34m.\u001b[0m\u001b[0m_pocketfft\u001b[0m \u001b[0;32mimport\u001b[0m \u001b[0mhelper\u001b[0m \u001b[0;32mas\u001b[0m \u001b[0m_helper\u001b[0m\u001b[0;34m\u001b[0m\u001b[0;34m\u001b[0m\u001b[0m\n\u001b[0m\u001b[1;32m      4\u001b[0m \u001b[0;34m\u001b[0m\u001b[0m\n\u001b[1;32m      5\u001b[0m \u001b[0;34m\u001b[0m\u001b[0m\n",
      "\u001b[0;32m/usr/lib/python3/dist-packages/scipy/fft/_pocketfft/__init__.py\u001b[0m in \u001b[0;36m<module>\u001b[0;34m\u001b[0m\n\u001b[1;32m      1\u001b[0m \u001b[0;34m\"\"\" FFT backend using pypocketfft \"\"\"\u001b[0m\u001b[0;34m\u001b[0m\u001b[0;34m\u001b[0m\u001b[0m\n\u001b[1;32m      2\u001b[0m \u001b[0;34m\u001b[0m\u001b[0m\n\u001b[0;32m----> 3\u001b[0;31m \u001b[0;32mfrom\u001b[0m \u001b[0;34m.\u001b[0m\u001b[0mbasic\u001b[0m \u001b[0;32mimport\u001b[0m \u001b[0;34m*\u001b[0m\u001b[0;34m\u001b[0m\u001b[0;34m\u001b[0m\u001b[0m\n\u001b[0m\u001b[1;32m      4\u001b[0m \u001b[0;32mfrom\u001b[0m \u001b[0;34m.\u001b[0m\u001b[0mrealtransforms\u001b[0m \u001b[0;32mimport\u001b[0m \u001b[0;34m*\u001b[0m\u001b[0;34m\u001b[0m\u001b[0;34m\u001b[0m\u001b[0m\n\u001b[1;32m      5\u001b[0m \u001b[0;32mfrom\u001b[0m \u001b[0;34m.\u001b[0m\u001b[0mhelper\u001b[0m \u001b[0;32mimport\u001b[0m \u001b[0;34m*\u001b[0m\u001b[0;34m\u001b[0m\u001b[0;34m\u001b[0m\u001b[0m\n",
      "\u001b[0;32m/usr/lib/python3/dist-packages/scipy/fft/_pocketfft/basic.py\u001b[0m in \u001b[0;36m<module>\u001b[0;34m\u001b[0m\n\u001b[1;32m      4\u001b[0m \u001b[0;32mimport\u001b[0m \u001b[0mnumpy\u001b[0m \u001b[0;32mas\u001b[0m \u001b[0mnp\u001b[0m\u001b[0;34m\u001b[0m\u001b[0;34m\u001b[0m\u001b[0m\n\u001b[1;32m      5\u001b[0m \u001b[0;32mimport\u001b[0m \u001b[0mfunctools\u001b[0m\u001b[0;34m\u001b[0m\u001b[0;34m\u001b[0m\u001b[0m\n\u001b[0;32m----> 6\u001b[0;31m \u001b[0;32mfrom\u001b[0m \u001b[0;34m.\u001b[0m \u001b[0;32mimport\u001b[0m \u001b[0mpypocketfft\u001b[0m \u001b[0;32mas\u001b[0m \u001b[0mpfft\u001b[0m\u001b[0;34m\u001b[0m\u001b[0;34m\u001b[0m\u001b[0m\n\u001b[0m\u001b[1;32m      7\u001b[0m from .helper import (_asfarray, _init_nd_shape_and_axes, _datacopied,\n\u001b[1;32m      8\u001b[0m                      \u001b[0m_fix_shape\u001b[0m\u001b[0;34m,\u001b[0m \u001b[0m_fix_shape_1d\u001b[0m\u001b[0;34m,\u001b[0m \u001b[0m_normalization\u001b[0m\u001b[0;34m,\u001b[0m\u001b[0;34m\u001b[0m\u001b[0;34m\u001b[0m\u001b[0m\n",
      "\u001b[0;31mImportError\u001b[0m: /home/ivan/exit/envs/tf/lib/libstdc++.so.6: version `GLIBCXX_3.4.30' not found (required by /usr/lib/python3/dist-packages/scipy/fft/_pocketfft/pypocketfft.cpython-310-x86_64-linux-gnu.so)"
     ]
    }
   ],
   "source": [
    "from IPython import display\n",
    "from scipy.io import wavfile\n",
    "import numpy as np\n",
    "from numpy import fft\n",
    "from matplotlib import pyplot as plt\n",
    "from scipy import signal"
   ]
  },
  {
   "cell_type": "markdown",
   "id": "hFC9bOw8qUNF",
   "metadata": {
    "id": "hFC9bOw8qUNF"
   },
   "source": [
    "Definišemo STFT funkciju koja predstavlja naše Gaborovo preslikavanje $G$"
   ]
  },
  {
   "cell_type": "code",
   "execution_count": null,
   "id": "7fb443ce",
   "metadata": {
    "id": "7fb443ce"
   },
   "outputs": [],
   "source": [
    "def stft(data):\n",
    "#     spectrogram = np.zeros((N-n, n),dtype=np.complex_)\n",
    "#     for i in range(0, N-n):\n",
    "#         samples = data[i : i+n ]\n",
    "#         c = fft.fft(samples*window)\n",
    "#         spectrogram[i, :] = c\n",
    "    return signal.stft(data, nperseg = 256, window='nuttall', noverlap=224)[2]"
   ]
  },
  {
   "cell_type": "markdown",
   "id": "wA0JXAxAqmI9",
   "metadata": {
    "id": "wA0JXAxAqmI9"
   },
   "source": [
    "Definišemo ISTFT funkciju koja predstavlja naše Gaborovo preslikavanje $G^{\\dagger}$"
   ]
  },
  {
   "cell_type": "code",
   "execution_count": null,
   "id": "1870a4b1",
   "metadata": {
    "id": "1870a4b1"
   },
   "outputs": [],
   "source": [
    "def istft(spectrogram):\n",
    "#     x = np.zeros(N)\n",
    "#     for i in range(0, N-n):\n",
    "#         x[i : i+n] += window * np.real(fft.ifft(spectrogram[i]))\n",
    "    return signal.istft(spectrogram, nperseg = 256, window='nuttall', noverlap=224)[1]"
   ]
  },
  {
   "cell_type": "markdown",
   "id": "An0xeifEsOYc",
   "metadata": {
    "id": "An0xeifEsOYc"
   },
   "source": [
    "Kako je u radu na kom je zasnovan ovaj projekat korišćena spectral signal-to-noise ratio (SSNR) metrika kao merilo greške definisana na sledeći način\n",
    "$$\n",
    "SSNR(x)=-\\log_{10}(E(x))\n",
    "$$\n",
    "tako je i ovde definisana kako bismo na kraju poredili dobijene rezultate sa onima u radu"
   ]
  },
  {
   "cell_type": "code",
   "execution_count": null,
   "id": "29bd9d2d",
   "metadata": {
    "id": "29bd9d2d"
   },
   "outputs": [],
   "source": [
    "def SSNR(c, s):\n",
    "    e = np.sqrt(np.sum((np.abs(c)-s)**2))\n",
    "    e /= np.sqrt(np.sum(s**2))\n",
    "    return -10 * np.log10(e)"
   ]
  },
  {
   "cell_type": "markdown",
   "id": "rgkB_nI3tfUT",
   "metadata": {
    "id": "rgkB_nI3tfUT"
   },
   "source": [
    "Ovde su definisane projekcije $P_{C_1}$ i $P_{C_2}$ kao što je objašnjeno iznad\n",
    "1. $P_{C_1}$: Kako je $G$ u našem slučaku STFT, a $G^\\dagger$ ISTFT, onda $GG^{\\dagger}x$ definišemo kao $STFT(ISTFT(x))$\n",
    "2. $P_{C_2}$: Definisana je na identičan način kao i iznad, $s$ predstavlja magnitudni spektrogram od kojeg polacimo, a $c$ spektrogram dobijen iz prethodne iteracije od kojeg uzimamo fazu"
   ]
  },
  {
   "cell_type": "code",
   "execution_count": null,
   "id": "75896c70",
   "metadata": {
    "id": "75896c70"
   },
   "outputs": [],
   "source": [
    "def pc1(c):\n",
    "    return stft(istft(c))\n",
    "\n",
    "def pc2(c, s):\n",
    "    return s*np.exp(1.0j*np.angle(c))"
   ]
  },
  {
   "cell_type": "markdown",
   "id": "cWMrMj0kzg3K",
   "metadata": {
    "id": "cWMrMj0kzg3K"
   },
   "source": [
    "Griffin-Lim algoritam (GLA) započinje inicijalizacijom signala, u našem slučaju signal je predstavljen svim nulama, ali mogao je biti i proizvoljni nasumični signal, jedina razlika bi bila brzina konvergencije. Inicijalizuje se i $c_0$ i zatim se naizmeničnim pozivima projekcija $P_{C_1}$ i $P_{C_2}$ spektrogram $c_n$ približava $s$, a $x^*$ se približava $x$"
   ]
  },
  {
   "cell_type": "code",
   "execution_count": null,
   "id": "2b6ef146",
   "metadata": {
    "id": "2b6ef146"
   },
   "outputs": [],
   "source": [
    "def GLA(s, N, iterations):\n",
    "    x = np.zeros(N)\n",
    "\n",
    "    c = s*np.exp(1.0j*np.angle(stft(x)))\n",
    "\n",
    "    x = istft(c)\n",
    "\n",
    "    ssnr_history = []\n",
    "\n",
    "    for i in range(1,iterations+1):\n",
    "        c = pc1(pc2(c,s))\n",
    "\n",
    "        ssnr = SSNR(c, s)\n",
    "        if(i % (iterations/10) == 0):\n",
    "            print('Reconstruction iteration: {}/{} - SSNR: {}'.format(i, iterations, ssnr))\n",
    "        ssnr_history.append(ssnr)\n",
    "\n",
    "    return istft(c), ssnr_history[1:]"
   ]
  },
  {
   "cell_type": "markdown",
   "id": "w2juEIMZCufJ",
   "metadata": {
    "id": "w2juEIMZCufJ"
   },
   "source": [
    "#Fast Griffin-Lim algoritam (FGLA)\n",
    "Fast Griffin-Lim algoritam (FGLA) predstavlja ubraznje po pitanju konvergencije u odnosu na osnovni Griffin-Lim algoritam. Ideja iza ubrzanja je da se koriste veći koraci nego u GLA, a kako bi se povećao korak koristi se informacija o koraku prethodne iteracije. Naime očekuje se da će konvergencija pratiti isti ili slični trend između dva susedna koraka tako da se i može ubrzati uvećavanjem trenutnog koraka za procenat prethodnog. To znači da umesto da radimo\n",
    "$$\n",
    "c_n=P_{C_1}(P_{C_2}(c_{n-1}))\n",
    "$$\n",
    "možemo da uradimo sledeću izmenu\n",
    "$$\n",
    "c_n=P_{C_1}(P_{C_2}(c_{n-1}+\\alpha{\\Delta}c_{n-1}))\n",
    "$$\n",
    "Gde je\n",
    "$$\n",
    "{\\Delta}c_{n-1}=c_{n-1}-c_{n-2}\n",
    "$$\n",
    "U ovom slučaju $\\alpha$ predstavlja proizvoljnu konstantu za koju je eksperimentalnom metodom dobijeno da najbolje rezultate daje za vrednosti bliske (ali ne jednake) 1. Konstanta $\\alpha$ bi u idealnoj situaciji bila zamenjena nizom $\\alpha_n$ tako da se njena vrednost menja kroz iteracije, ali unapred računanje ovog niza nije jednostavna stvar, a dobici na brzini konvergenicije nisu veliki u odnosu na jedinstvenu vrednost $\\alpha$, tako da ćemo koristiti fiksnu vrednost\n"
   ]
  },
  {
   "cell_type": "code",
   "execution_count": null,
   "id": "2132db6d",
   "metadata": {
    "id": "2132db6d"
   },
   "outputs": [],
   "source": [
    "def FGLA(s, N, iterations, alpha = 0.99):\n",
    "    x = np.zeros(N)\n",
    "\n",
    "    c_prev = s*np.exp(1.0j*np.angle(stft(x)))\n",
    "    t_prev = pc2(pc1(c_prev),s)\n",
    "\n",
    "    # x = istft(c_prev)\n",
    "\n",
    "    ssnr_history = []\n",
    "\n",
    "    for i in range(1,iterations+1):\n",
    "        t = pc1(pc2(c_prev,s))\n",
    "        c = t + alpha*(t - t_prev)\n",
    "\n",
    "        t_prev = t\n",
    "        c_prev = c\n",
    "\n",
    "        # x = istft(c)\n",
    "\n",
    "        ssnr = SSNR(c, s)\n",
    "        if(i % (iterations/10) == 0):\n",
    "            print('Reconstruction iteration: {}/{} - SSNR: {}'.format(i, iterations, ssnr))\n",
    "        ssnr_history.append(ssnr)\n",
    "\n",
    "    return istft(c), ssnr_history[1:]"
   ]
  },
  {
   "cell_type": "markdown",
   "id": "e1vB7E4_JVwW",
   "metadata": {
    "id": "e1vB7E4_JVwW"
   },
   "source": [
    "Pravimo pripreme, određujemo koji će zvukovi biti prerađeni, koje $\\alpha$ korišćeno za FGLA i koji je broj iteracija. Zatim za svaki zvuk pojedinačno pravimo spektrogram, otstranjujemo fazu tako da nam ostaje samo spektrogram magnituda $s$ i pokrećemo GLA i FGLA kako bismo mogli da poredimo rezultate. Obe funkcije vraćaju dobijeni signal i istoriju SSNR vrednosti koje ćemo posle ispisati i uporediti sa onima na radu."
   ]
  },
  {
   "cell_type": "code",
   "execution_count": null,
   "id": "TJpi40dTbK45",
   "metadata": {
    "id": "TJpi40dTbK45"
   },
   "outputs": [],
   "source": [
    "sound_names = [\"gspi.wav\", \"cocktailparty.wav\", \"traindoppler.wav\", \"greasy.wav\", \"linus.wav\"]\n",
    "alpha = 0.99\n",
    "iterations = 100\n",
    "\n",
    "x_gla_array = []\n",
    "history_gla_array = []\n",
    "x_fgla_array = []\n",
    "history_fgla_array = []\n",
    "Fs_array = []\n",
    "for sound_name in sound_names:\n",
    "  Fs, data = wavfile.read('/content/'+sound_name)\n",
    "  Fs_array.append(Fs)\n",
    "  N = data.shape[0]\n",
    "  s = np.abs(stft(data))\n",
    "\n",
    "\n",
    "  print(\"======================================================\")\n",
    "  print(\"Sound name: \"+sound_name)\n",
    "  print(\"### GLA: \")\n",
    "  x_gla, history_gla = GLA(s, N, iterations)\n",
    "  x_gla_array.append(x_gla)\n",
    "  history_gla_array.append(history_gla)\n",
    "  print(\"### FGLA: \")\n",
    "  x_fgla, history_fgla = FGLA(s, N, iterations, alpha)\n",
    "  x_fgla_array.append(x_fgla)\n",
    "  history_fgla_array.append(history_fgla)"
   ]
  },
  {
   "cell_type": "markdown",
   "id": "ps6bHVuPKk8U",
   "metadata": {
    "id": "ps6bHVuPKk8U"
   },
   "source": [
    "Ovde jednostavno prikazujemo dobijene vrednosti za svaki obrađeni zvuk. Pravi se grafik SSNR istorija za GLA i FGLA za svaki zvuk i na kraju može da se odsluša dobijeni rekonstruisani zvučni signal"
   ]
  },
  {
   "cell_type": "code",
   "execution_count": null,
   "id": "3e515a01",
   "metadata": {
    "id": "3e515a01"
   },
   "outputs": [],
   "source": [
    "for i in range(len(sound_names)):\n",
    "  it_vals = range(1, iterations)\n",
    "  plt.title('SSNR of '+sound_names[i])\n",
    "  plt.plot(it_vals, history_gla_array[i], label='GLA')\n",
    "  plt.plot(it_vals, history_fgla_array[i], label='FGLA')\n",
    "  plt.legend(loc='best')\n",
    "  plt.show()\n",
    "  display.display(display.Audio(data=x_fgla_array[i], rate=Fs_array[i]))"
   ]
  }
 ],
 "metadata": {
  "colab": {
   "provenance": []
  },
  "kernelspec": {
   "display_name": "Python 3 (ipykernel)",
   "language": "python",
   "name": "python3"
  },
  "language_info": {
   "codemirror_mode": {
    "name": "ipython",
    "version": 3
   },
   "file_extension": ".py",
   "mimetype": "text/x-python",
   "name": "python",
   "nbconvert_exporter": "python",
   "pygments_lexer": "ipython3",
   "version": "3.10.12"
  }
 },
 "nbformat": 4,
 "nbformat_minor": 5
}
